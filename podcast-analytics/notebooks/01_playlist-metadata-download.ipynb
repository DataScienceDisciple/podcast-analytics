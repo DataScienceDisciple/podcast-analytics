{
 "cells": [
  {
   "cell_type": "code",
   "execution_count": null,
   "outputs": [],
   "source": [
    "import os\n",
    "import pandas as pd"
   ],
   "metadata": {
    "collapsed": false
   }
  },
  {
   "cell_type": "code",
   "execution_count": null,
   "outputs": [],
   "source": [
    "from kedro.config import ConfigLoader\n",
    "from pyyoutube import Api"
   ],
   "metadata": {
    "collapsed": false
   }
  },
  {
   "cell_type": "markdown",
   "source": [
    "## Get YT API key"
   ],
   "metadata": {
    "collapsed": false
   }
  },
  {
   "cell_type": "code",
   "execution_count": null,
   "outputs": [],
   "source": [
    "conf_path = os.path.join(\"..\", \"conf\")\n",
    "conf_loader = ConfigLoader(conf_source=conf_path, env=\"local\")\n",
    "YT_API_KEY = conf_loader.get(\"credentials.yml\")['youtube']['api_key']\n",
    "api = Api(api_key=YT_API_KEY)\n",
    "YT_USERNAME = \"lexfridman\"\n",
    "PLAYLIST_NAME = \"Lex Fridman Podcast\""
   ],
   "metadata": {
    "collapsed": false
   }
  },
  {
   "cell_type": "markdown",
   "source": [
    "## Get User's videos from playlist"
   ],
   "metadata": {
    "collapsed": false
   }
  },
  {
   "cell_type": "code",
   "execution_count": null,
   "outputs": [],
   "source": [
    "def get_user_id(yt_api, username):\n",
    "    return yt_api.get_channel_info(for_username=username).items[0].to_dict()['id']"
   ],
   "metadata": {
    "collapsed": false
   }
  },
  {
   "cell_type": "code",
   "execution_count": null,
   "outputs": [],
   "source": [
    "def get_user_playlist_by_name(yt_api, user_id, playlist_name):\n",
    "    for playlist in yt_api.get_playlists(channel_id=user_id, count=None).items:\n",
    "        if playlist.to_dict()['snippet']['title'] == playlist_name:\n",
    "            return playlist\n",
    "    raise NameError(f'Playlist {playlist_name} does not exist for user {user_id}')\n",
    "\n",
    "\n",
    "def get_video_data_from_playlist(yt_api: Api, playlist):\n",
    "    playlist_videos = yt_api.get_playlist_items(playlist_id=playlist.id, count=None)\n",
    "    return pd.DataFrame([(item['contentDetails']['videoId'],\n",
    "                          item['snippet']['title'],\n",
    "                          item['snippet']['description']) for item in playlist_videos.to_dict()['items']],\n",
    "                        columns=['videoId', 'title', 'description'])"
   ],
   "metadata": {
    "collapsed": false
   }
  },
  {
   "cell_type": "code",
   "execution_count": null,
   "outputs": [],
   "source": [
    "user_id = get_user_id(api, YT_USERNAME)\n",
    "podcast_playlist = get_user_playlist_by_name(api, user_id, PLAYLIST_NAME)"
   ],
   "metadata": {
    "collapsed": false
   }
  },
  {
   "cell_type": "code",
   "execution_count": null,
   "outputs": [],
   "source": [
    "video_data = get_video_data_from_playlist(api, podcast_playlist)"
   ],
   "metadata": {
    "collapsed": false
   }
  },
  {
   "cell_type": "code",
   "execution_count": null,
   "outputs": [],
   "source": [
    "video_data.to_csv(os.path.join('..', 'data', '01_raw', 'video_data.csv'), index=False)"
   ],
   "metadata": {
    "collapsed": false
   }
  }
 ],
 "metadata": {
  "kernelspec": {
   "display_name": "Python 3",
   "language": "python",
   "name": "python3"
  },
  "language_info": {
   "codemirror_mode": {
    "name": "ipython",
    "version": 2
   },
   "file_extension": ".py",
   "mimetype": "text/x-python",
   "name": "python",
   "nbconvert_exporter": "python",
   "pygments_lexer": "ipython2",
   "version": "2.7.6"
  }
 },
 "nbformat": 4,
 "nbformat_minor": 0
}
